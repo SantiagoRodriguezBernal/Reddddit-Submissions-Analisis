{
 "cells": [
  {
   "cell_type": "markdown",
   "metadata": {},
   "source": [
    "## **Análisis de la Base de Datos CVE de Vulnerabilidades**"
   ]
  },
  {
   "cell_type": "markdown",
   "metadata": {},
   "source": [
    "En este cuaderno, nos enfocaremos en la descarga y análisis de la base de datos CVE (Common Vulnerabilities and Exposures). La base de datos CVE es un listado de vulnerabilidades de seguridad conocidas, que es fundamental para el estudio y la mitigación de riesgos en ciberseguridad.\n",
    "\n",
    "## Objetivos\n",
    "\n",
    "1. **Descarga de datos**: Obtener la base de datos CVE más reciente desde una fuente confiable.\n",
    "2. **Carga de datos**: Importar los datos descargados en un DataFrame de pandas para su manipulación y análisis.\n",
    "3. **Filtrado por palabras clave**: Aplicar un filtro para identificar las vulnerabilidades que contienen términos específicos relacionados con áreas de interés en ciberseguridad."
   ]
  },
  {
   "cell_type": "markdown",
   "metadata": {},
   "source": [
    "## **Preparando Librerias**\n",
    "\n"
   ]
  },
  {
   "cell_type": "markdown",
   "metadata": {},
   "source": [
    "Para llevar a cabo el análisis y procesamiento de datos de submissions de Reddit, necesitaremos utilizar varias librerías de Python que proporcionan funcionalidades esenciales para la manipulación y visualización de datos. En esta sección, importaremos las librerías necesarias y explicaremos brevemente su propósito en el contexto de nuestro proyecto.\n",
    "\n",
    "Las principales librerías que utilizaremos son:\n",
    "\n",
    "- **pandas**: Una poderosa biblioteca para la manipulación y análisis de datos, especialmente útil para trabajar con estructuras de datos tabulares como DataFrames.\n",
    "- **numpy**: Una biblioteca fundamental para el cálculo numérico en Python, que nos ayudará a realizar operaciones matemáticas y estadísticas.\n",
    "- **ydata-profiling**: Una herramienta de perfilado de datos que genera un informe exploratorio detallado sobre los datos, facilitando la comprensión y limpieza inicial de los datos antes de su análisis más profundo.\n",
    "- **request**: Una libreria que nos permite descargar el archivo consultando la pagina del CVE\n",
    "\n",
    "\n",
    "A continuación, importaremos estas librerías y nos aseguraremos de que estén listas para ser utilizadas en las siguientes secciones del cuaderno."
   ]
  },
  {
   "cell_type": "code",
   "execution_count": 1,
   "metadata": {},
   "outputs": [],
   "source": [
    "import requests\n",
    "\n",
    "import pandas as pd\n",
    "import numpy as np\n",
    "import sys\n",
    "import statistics"
   ]
  },
  {
   "cell_type": "markdown",
   "metadata": {},
   "source": [
    "## **Descarga de Datos**"
   ]
  },
  {
   "cell_type": "markdown",
   "metadata": {},
   "source": [
    "El primer paso es descargar la base de datos CVE. Asegúrate de obtener los datos desde una fuente oficial y confiable para garantizar su integridad y actualidad. En esta sección, proporcionaremos el código necesario para realizar esta descarga."
   ]
  },
  {
   "cell_type": "code",
   "execution_count": 2,
   "metadata": {},
   "outputs": [
    {
     "name": "stdout",
     "output_type": "stream",
     "text": [
      "CSV file downloaded successfully\n"
     ]
    }
   ],
   "source": [
    "\n",
    "# URL del archivo CSV correspondiente al CSV de CVE\n",
    "url = 'https://cve.mitre.org/data/downloads/allitems.csv'\n",
    "\n",
    "# Descarga del archivo\n",
    "response = requests.get(url)\n",
    "\n",
    "# Revision de si la peticion fue exitosa\n",
    "if response.status_code == 200:\n",
    "    # Save the file locally\n",
    "    with open('allitems.csv', 'wb') as f:\n",
    "        f.write(response.content)\n",
    "    print(\"CSV file downloaded successfully\")\n",
    "else:\n",
    "    print(f\"Failed to download file. Status code: {response.status_code}\")"
   ]
  },
  {
   "cell_type": "markdown",
   "metadata": {},
   "source": [
    "## **Carga de Datos**"
   ]
  },
  {
   "cell_type": "markdown",
   "metadata": {},
   "source": [
    "Una vez descargados los datos, los cargaremos en un DataFrame de pandas. Esto nos permitirá realizar operaciones de filtrado y análisis de manera eficiente."
   ]
  },
  {
   "cell_type": "code",
   "execution_count": 7,
   "metadata": {},
   "outputs": [
    {
     "name": "stderr",
     "output_type": "stream",
     "text": [
      "C:\\Users\\estudiante\\AppData\\Local\\Temp\\ipykernel_7336\\2144824442.py:3: DtypeWarning: Columns (6) have mixed types. Specify dtype option on import or set low_memory=False.\n",
      "  data_CVE = pd.read_csv('allitems.csv', encoding='utf-8', skiprows= 9, header= None)\n"
     ]
    },
    {
     "data": {
      "text/html": [
       "<div>\n",
       "<style scoped>\n",
       "    .dataframe tbody tr th:only-of-type {\n",
       "        vertical-align: middle;\n",
       "    }\n",
       "\n",
       "    .dataframe tbody tr th {\n",
       "        vertical-align: top;\n",
       "    }\n",
       "\n",
       "    .dataframe thead th {\n",
       "        text-align: right;\n",
       "    }\n",
       "</style>\n",
       "<table border=\"1\" class=\"dataframe\">\n",
       "  <thead>\n",
       "    <tr style=\"text-align: right;\">\n",
       "      <th></th>\n",
       "      <th>Name</th>\n",
       "      <th>Status</th>\n",
       "      <th>Description</th>\n",
       "      <th>References</th>\n",
       "      <th>Phase</th>\n",
       "      <th>body</th>\n",
       "      <th>Votes</th>\n",
       "    </tr>\n",
       "  </thead>\n",
       "  <tbody>\n",
       "    <tr>\n",
       "      <th>0</th>\n",
       "      <td>CVE-1999-0009</td>\n",
       "      <td>Entry</td>\n",
       "      <td>Inverse query buffer overflow in BIND 4.9 and ...</td>\n",
       "      <td>BID:134   |   URL:http://www.securityfocus.com...</td>\n",
       "      <td>NaN</td>\n",
       "      <td>NaN</td>\n",
       "      <td>NaN</td>\n",
       "    </tr>\n",
       "    <tr>\n",
       "      <th>1</th>\n",
       "      <td>CVE-1999-0010</td>\n",
       "      <td>Entry</td>\n",
       "      <td>Denial of Service vulnerability in BIND 8 Rele...</td>\n",
       "      <td>CERT:CA-98.05.bind_problems   |   HP:HPSBUX980...</td>\n",
       "      <td>NaN</td>\n",
       "      <td>NaN</td>\n",
       "      <td>NaN</td>\n",
       "    </tr>\n",
       "    <tr>\n",
       "      <th>2</th>\n",
       "      <td>CVE-1999-0011</td>\n",
       "      <td>Entry</td>\n",
       "      <td>Denial of Service vulnerabilities in BIND 4.9 ...</td>\n",
       "      <td>CERT:CA-98.05.bind_problems   |   HP:HPSBUX980...</td>\n",
       "      <td>NaN</td>\n",
       "      <td>NaN</td>\n",
       "      <td>NaN</td>\n",
       "    </tr>\n",
       "    <tr>\n",
       "      <th>3</th>\n",
       "      <td>CVE-1999-0012</td>\n",
       "      <td>Entry</td>\n",
       "      <td>Some web servers under Microsoft Windows allow...</td>\n",
       "      <td>CERT:CA-98.04.Win32.WebServers   |   MISC:http...</td>\n",
       "      <td>NaN</td>\n",
       "      <td>NaN</td>\n",
       "      <td>NaN</td>\n",
       "    </tr>\n",
       "    <tr>\n",
       "      <th>4</th>\n",
       "      <td>CVE-1999-0013</td>\n",
       "      <td>Entry</td>\n",
       "      <td>Stolen credentials from SSH clients via ssh-ag...</td>\n",
       "      <td>CERT:CA-98.03.ssh-agent   |   MISC:https://exc...</td>\n",
       "      <td>NaN</td>\n",
       "      <td>NaN</td>\n",
       "      <td>NaN</td>\n",
       "    </tr>\n",
       "  </tbody>\n",
       "</table>\n",
       "</div>"
      ],
      "text/plain": [
       "            Name Status                                        Description  \\\n",
       "0  CVE-1999-0009  Entry  Inverse query buffer overflow in BIND 4.9 and ...   \n",
       "1  CVE-1999-0010  Entry  Denial of Service vulnerability in BIND 8 Rele...   \n",
       "2  CVE-1999-0011  Entry  Denial of Service vulnerabilities in BIND 4.9 ...   \n",
       "3  CVE-1999-0012  Entry  Some web servers under Microsoft Windows allow...   \n",
       "4  CVE-1999-0013  Entry  Stolen credentials from SSH clients via ssh-ag...   \n",
       "\n",
       "                                          References Phase body Votes  \n",
       "0  BID:134   |   URL:http://www.securityfocus.com...   NaN  NaN   NaN  \n",
       "1  CERT:CA-98.05.bind_problems   |   HP:HPSBUX980...   NaN  NaN   NaN  \n",
       "2  CERT:CA-98.05.bind_problems   |   HP:HPSBUX980...   NaN  NaN   NaN  \n",
       "3  CERT:CA-98.04.Win32.WebServers   |   MISC:http...   NaN  NaN   NaN  \n",
       "4  CERT:CA-98.03.ssh-agent   |   MISC:https://exc...   NaN  NaN   NaN  "
      ]
     },
     "execution_count": 7,
     "metadata": {},
     "output_type": "execute_result"
    }
   ],
   "source": [
    "# Leer los datos CSV de las submissions\n",
    "\n",
    "data_CVE = pd.read_csv('allitems.csv', encoding='utf-8', skiprows= 9, header= None)\n",
    "\n",
    "# Asignar nombres a las columnas de las submissions\n",
    "\n",
    "columns_name = [\"Name\",\"Status\",\"Description\",\"References\",\"Phase\",\"body\",\"Votes\"]\n",
    "data_CVE.columns = columns_name\n",
    "\n",
    "# Mostrar las primeras filas del dataframe de submissions\n",
    "data_CVE.head()"
   ]
  },
  {
   "cell_type": "markdown",
   "metadata": {},
   "source": [
    "## **Filtrado por Palabras Clave** \n",
    "\n",
    "Aplicaremos un filtro utilizando una lista de palabras clave relevantes para identificar las vulnerabilidades más significativas en nuestro contexto de estudio. Este proceso es crucial para enfocar nuestro análisis en los aspectos más críticos de seguridad de la infraestructura de una empresa especifica"
   ]
  },
  {
   "cell_type": "code",
   "execution_count": 10,
   "metadata": {},
   "outputs": [
    {
     "name": "stdout",
     "output_type": "stream",
     "text": [
      "                  Name     Status  \\\n",
      "71381    CVE-2014-3250  Candidate   \n",
      "122470   CVE-2018-1197  Candidate   \n",
      "123501  CVE-2018-12907  Candidate   \n",
      "127428  CVE-2018-16477  Candidate   \n",
      "142611  CVE-2019-10379  Candidate   \n",
      "144382  CVE-2019-11989  Candidate   \n",
      "145683  CVE-2019-13171  Candidate   \n",
      "192641   CVE-2020-8903  Candidate   \n",
      "192645   CVE-2020-8907  Candidate   \n",
      "192671   CVE-2020-8933  Candidate   \n",
      "198538  CVE-2021-22547  Candidate   \n",
      "219145  CVE-2021-41773  Candidate   \n",
      "219409  CVE-2021-42013  Candidate   \n",
      "219543  CVE-2021-42135  Candidate   \n",
      "220051  CVE-2021-42597  Candidate   \n",
      "229355  CVE-2022-22302  Candidate   \n",
      "244493  CVE-2022-36065  Candidate   \n",
      "245429  CVE-2022-36916  Candidate   \n",
      "245430  CVE-2022-36917  Candidate   \n",
      "252709  CVE-2022-43549  Candidate   \n",
      "268721  CVE-2023-27587  Candidate   \n",
      "271979  CVE-2023-30549  Candidate   \n",
      "281824   CVE-2023-3950  Candidate   \n",
      "292966  CVE-2023-49652  Candidate   \n",
      "294163   CVE-2023-5077  Candidate   \n",
      "299646   CVE-2024-1385  Candidate   \n",
      "311009  CVE-2024-29795  Candidate   \n",
      "\n",
      "                                              Description  \\\n",
      "71381   The default vhost configuration file in Puppet...   \n",
      "122470  In Windows Stemcells versions prior to 1200.14...   \n",
      "123501  In Rclone 1.42, use of \"rclone sync\" to migrat...   \n",
      "127428  A bypass vulnerability in Active Storage >= 5....   \n",
      "142611  Jenkins Google Cloud Messaging Notification Pl...   \n",
      "144382  A security vulnerability in HPE IceWall SSO Ag...   \n",
      "145683  Some Xerox printers (such as the Phaser 3320 V...   \n",
      "192641  A vulnerability in Google Cloud Platform's gue...   \n",
      "192645  A vulnerability in Google Cloud Platform's gue...   \n",
      "192671  A vulnerability in Google Cloud Platform's gue...   \n",
      "198538  In IoT Devices SDK, there is an implementation...   \n",
      "219145  A flaw was found in a change made to path norm...   \n",
      "219409  It was found that the fix for CVE-2021-41773 i...   \n",
      "219543  HashiCorp Vault and Vault Enterprise 1.8.x thr...   \n",
      "220051  A Cross Site Scripting (XSS) vulnerability exi...   \n",
      "229355  A clear text storage of sensitive information ...   \n",
      "244493  GrowthBook is an open-source platform for feat...   \n",
      "245429  A cross-site request forgery (CSRF) vulnerabil...   \n",
      "245430  A missing permission check in Jenkins Google C...   \n",
      "252709  Improper authentication in Veeam Backup for Go...   \n",
      "268721  ReadtoMyShoe, a web app that lets users upload...   \n",
      "271979  Apptainer is an open source container platform...   \n",
      "281824  An information disclosure issue in GitLab EE a...   \n",
      "292966  Incorrect permission checks in Jenkins Google ...   \n",
      "294163  The Vault and Vault Enterprise (\"Vault\") Googl...   \n",
      "299646  The WP-Stateless &#8211; Google Cloud Storage ...   \n",
      "311009  Improper Neutralization of Input During Web Pa...   \n",
      "\n",
      "                                               References  \\\n",
      "71381   CONFIRM:https://bugzilla.redhat.com/show_bug.c...   \n",
      "122470  CONFIRM:https://www.cloudfoundry.org/blog/cve-...   \n",
      "123501  MISC:http://openwall.com/lists/oss-security/20...   \n",
      "127428  MISC:https://groups.google.com/d/msg/rubyonrai...   \n",
      "142611  MISC:[oss-security] 20190807 Multiple vulnerab...   \n",
      "144382  MISC:https://support.hpe.com/hpsc/doc/public/d...   \n",
      "145683  MISC:https://security.business.xerox.com/   | ...   \n",
      "192641  CONFIRM:https://github.com/GoogleCloudPlatform...   \n",
      "192645  CONFIRM:https://github.com/GoogleCloudPlatform...   \n",
      "192671  CONFIRM:https://github.com/GoogleCloudPlatform...   \n",
      "198538  MISC:https://github.com/GoogleCloudPlatform/io...   \n",
      "219145  CISCO:20211007 Apache HTTP Server Vulnerabilti...   \n",
      "219409  CISCO:20211007 Apache HTTP Server Vulnerabilti...   \n",
      "219543  MISC:https://discuss.hashicorp.com/t/hcsec-202...   \n",
      "220051  MISC:https://cxsecurity.com/issue/WLB-20220900...   \n",
      "229355  MISC:https://fortiguard.com/psirt/FG-IR-20-014...   \n",
      "244493  CONFIRM:https://github.com/growthbook/growthbo...   \n",
      "245429  MISC:[oss-security] 20220727 Multiple vulnerab...   \n",
      "245430  MISC:[oss-security] 20220727 Multiple vulnerab...   \n",
      "252709  MISC:https://www.veeam.com/kb4374   |   URL:ht...   \n",
      "268721  MISC:https://github.com/rozbb/readtomyshoe/com...   \n",
      "271979  GENTOO:GLSA-202311-13   |   URL:https://securi...   \n",
      "281824  MISC:GitLab Issue #419675   |   URL:https://gi...   \n",
      "292966  MISC:Jenkins Security Advisory 2023-11-29   | ...   \n",
      "294163  MISC:https://discuss.hashicorp.com/t/hcsec-202...   \n",
      "299646  MISC:https://plugins.trac.wordpress.org/change...   \n",
      "311009  MISC:https://patchstack.com/database/vulnerabi...   \n",
      "\n",
      "                      Phase                               body Votes  \n",
      "71381   Assigned (20140507)  None (candidate not yet proposed)   NaN  \n",
      "122470  Assigned (20171206)  None (candidate not yet proposed)   NaN  \n",
      "123501  Assigned (20180627)  None (candidate not yet proposed)   NaN  \n",
      "127428  Assigned (20180904)  None (candidate not yet proposed)   NaN  \n",
      "142611  Assigned (20190329)  None (candidate not yet proposed)   NaN  \n",
      "144382  Assigned (20190513)  None (candidate not yet proposed)   NaN  \n",
      "145683  Assigned (20190702)  None (candidate not yet proposed)   NaN  \n",
      "192641  Assigned (20200212)  None (candidate not yet proposed)   NaN  \n",
      "192645  Assigned (20200212)  None (candidate not yet proposed)   NaN  \n",
      "192671  Assigned (20200212)  None (candidate not yet proposed)   NaN  \n",
      "198538  Assigned (20210105)  None (candidate not yet proposed)   NaN  \n",
      "219145  Assigned (20210929)  None (candidate not yet proposed)   NaN  \n",
      "219409  Assigned (20211006)  None (candidate not yet proposed)   NaN  \n",
      "219543  Assigned (20211011)  None (candidate not yet proposed)   NaN  \n",
      "220051  Assigned (20211018)  None (candidate not yet proposed)   NaN  \n",
      "229355  Assigned (20220103)  None (candidate not yet proposed)   NaN  \n",
      "244493  Assigned (20220715)  None (candidate not yet proposed)   NaN  \n",
      "245429  Assigned (20220727)  None (candidate not yet proposed)   NaN  \n",
      "245430  Assigned (20220727)  None (candidate not yet proposed)   NaN  \n",
      "252709  Assigned (20221020)  None (candidate not yet proposed)   NaN  \n",
      "268721  Assigned (20230304)  None (candidate not yet proposed)   NaN  \n",
      "271979  Assigned (20230412)  None (candidate not yet proposed)   NaN  \n",
      "281824  Assigned (20230725)  None (candidate not yet proposed)   NaN  \n",
      "292966  Assigned (20231128)  None (candidate not yet proposed)   NaN  \n",
      "294163  Assigned (20230919)  None (candidate not yet proposed)   NaN  \n",
      "299646  Assigned (20240208)  None (candidate not yet proposed)   NaN  \n",
      "311009  Assigned (20240319)  None (candidate not yet proposed)   NaN  \n"
     ]
    }
   ],
   "source": [
    "# Diccionario que contiene los elementos de infraestuctura de la empresa.\n",
    "\n",
    "values = [\"Apache 2.4\",\"PostgreSQL 13\",\"Ubuntu 20.04\",\"Google Cloud\",\"Palo Alto PA-220\"]\n",
    "\n",
    "# Función para contar palabras clave en un texto\n",
    "\n",
    "def count_words(string):\n",
    "    count = 0\n",
    "    counted_words = set()\n",
    "    for word in values:\n",
    "        if word in string and word not in counted_words:\n",
    "            count += 1\n",
    "            counted_words.add(word)\n",
    "    return count\n",
    "\n",
    "# Filtrar textos con al menos 13 palabras clave en submissions, el numero de palabras clave depende del objetivo de investigacion\n",
    "\n",
    "filtered_df = data_CVE[data_CVE['Description'].apply(lambda x: count_words(x) >= 1)]\n",
    "\n",
    "# Mostrar el DataFrame filtrado\n",
    "\n",
    "print(filtered_df)"
   ]
  },
  {
   "cell_type": "code",
   "execution_count": 11,
   "metadata": {},
   "outputs": [
    {
     "data": {
      "text/html": [
       "<div>\n",
       "<style scoped>\n",
       "    .dataframe tbody tr th:only-of-type {\n",
       "        vertical-align: middle;\n",
       "    }\n",
       "\n",
       "    .dataframe tbody tr th {\n",
       "        vertical-align: top;\n",
       "    }\n",
       "\n",
       "    .dataframe thead th {\n",
       "        text-align: right;\n",
       "    }\n",
       "</style>\n",
       "<table border=\"1\" class=\"dataframe\">\n",
       "  <thead>\n",
       "    <tr style=\"text-align: right;\">\n",
       "      <th></th>\n",
       "      <th>Name</th>\n",
       "      <th>Status</th>\n",
       "      <th>Description</th>\n",
       "      <th>References</th>\n",
       "      <th>Phase</th>\n",
       "      <th>body</th>\n",
       "      <th>Votes</th>\n",
       "    </tr>\n",
       "  </thead>\n",
       "  <tbody>\n",
       "    <tr>\n",
       "      <th>71381</th>\n",
       "      <td>CVE-2014-3250</td>\n",
       "      <td>Candidate</td>\n",
       "      <td>The default vhost configuration file in Puppet...</td>\n",
       "      <td>CONFIRM:https://bugzilla.redhat.com/show_bug.c...</td>\n",
       "      <td>Assigned (20140507)</td>\n",
       "      <td>None (candidate not yet proposed)</td>\n",
       "      <td>NaN</td>\n",
       "    </tr>\n",
       "    <tr>\n",
       "      <th>122470</th>\n",
       "      <td>CVE-2018-1197</td>\n",
       "      <td>Candidate</td>\n",
       "      <td>In Windows Stemcells versions prior to 1200.14...</td>\n",
       "      <td>CONFIRM:https://www.cloudfoundry.org/blog/cve-...</td>\n",
       "      <td>Assigned (20171206)</td>\n",
       "      <td>None (candidate not yet proposed)</td>\n",
       "      <td>NaN</td>\n",
       "    </tr>\n",
       "    <tr>\n",
       "      <th>123501</th>\n",
       "      <td>CVE-2018-12907</td>\n",
       "      <td>Candidate</td>\n",
       "      <td>In Rclone 1.42, use of \"rclone sync\" to migrat...</td>\n",
       "      <td>MISC:http://openwall.com/lists/oss-security/20...</td>\n",
       "      <td>Assigned (20180627)</td>\n",
       "      <td>None (candidate not yet proposed)</td>\n",
       "      <td>NaN</td>\n",
       "    </tr>\n",
       "    <tr>\n",
       "      <th>127428</th>\n",
       "      <td>CVE-2018-16477</td>\n",
       "      <td>Candidate</td>\n",
       "      <td>A bypass vulnerability in Active Storage &gt;= 5....</td>\n",
       "      <td>MISC:https://groups.google.com/d/msg/rubyonrai...</td>\n",
       "      <td>Assigned (20180904)</td>\n",
       "      <td>None (candidate not yet proposed)</td>\n",
       "      <td>NaN</td>\n",
       "    </tr>\n",
       "    <tr>\n",
       "      <th>142611</th>\n",
       "      <td>CVE-2019-10379</td>\n",
       "      <td>Candidate</td>\n",
       "      <td>Jenkins Google Cloud Messaging Notification Pl...</td>\n",
       "      <td>MISC:[oss-security] 20190807 Multiple vulnerab...</td>\n",
       "      <td>Assigned (20190329)</td>\n",
       "      <td>None (candidate not yet proposed)</td>\n",
       "      <td>NaN</td>\n",
       "    </tr>\n",
       "  </tbody>\n",
       "</table>\n",
       "</div>"
      ],
      "text/plain": [
       "                  Name     Status  \\\n",
       "71381    CVE-2014-3250  Candidate   \n",
       "122470   CVE-2018-1197  Candidate   \n",
       "123501  CVE-2018-12907  Candidate   \n",
       "127428  CVE-2018-16477  Candidate   \n",
       "142611  CVE-2019-10379  Candidate   \n",
       "\n",
       "                                              Description  \\\n",
       "71381   The default vhost configuration file in Puppet...   \n",
       "122470  In Windows Stemcells versions prior to 1200.14...   \n",
       "123501  In Rclone 1.42, use of \"rclone sync\" to migrat...   \n",
       "127428  A bypass vulnerability in Active Storage >= 5....   \n",
       "142611  Jenkins Google Cloud Messaging Notification Pl...   \n",
       "\n",
       "                                               References  \\\n",
       "71381   CONFIRM:https://bugzilla.redhat.com/show_bug.c...   \n",
       "122470  CONFIRM:https://www.cloudfoundry.org/blog/cve-...   \n",
       "123501  MISC:http://openwall.com/lists/oss-security/20...   \n",
       "127428  MISC:https://groups.google.com/d/msg/rubyonrai...   \n",
       "142611  MISC:[oss-security] 20190807 Multiple vulnerab...   \n",
       "\n",
       "                      Phase                               body Votes  \n",
       "71381   Assigned (20140507)  None (candidate not yet proposed)   NaN  \n",
       "122470  Assigned (20171206)  None (candidate not yet proposed)   NaN  \n",
       "123501  Assigned (20180627)  None (candidate not yet proposed)   NaN  \n",
       "127428  Assigned (20180904)  None (candidate not yet proposed)   NaN  \n",
       "142611  Assigned (20190329)  None (candidate not yet proposed)   NaN  "
      ]
     },
     "execution_count": 11,
     "metadata": {},
     "output_type": "execute_result"
    }
   ],
   "source": [
    "filtered_df.head()"
   ]
  },
  {
   "cell_type": "markdown",
   "metadata": {},
   "source": [
    "## **Exportación de Datos Filtrados**"
   ]
  },
  {
   "cell_type": "markdown",
   "metadata": {},
   "source": [
    "Una vez que hemos filtrado nuestros datos para obtener las vulnerabilidades relacionados a la infraestructura de una empresa, el siguiente paso es exportar estos datos a archivos CSV. Esto nos permitirá almacenar y compartir los datos filtrados de manera eficiente, así como utilizarlos en análisis posteriores y en el entrenamiento de modelos predictivos.\n",
    "\n",
    "En esta sección, convertiremos los DataFrames filtrados en archivos CSV. Este paso es crucial para garantizar que nuestros datos procesados estén bien organizados y sean fácilmente accesibles para futuros usos.\n",
    "\n",
    "El código siguiente realiza la exportación de los DataFrames filtrados a archivos CSV.\n"
   ]
  },
  {
   "cell_type": "code",
   "execution_count": 12,
   "metadata": {},
   "outputs": [],
   "source": [
    "# Los datos filtrados son almacenados en una archivo CSV\n",
    "\n",
    "filtered_df.to_csv('CVE_filtrado.csv', index=False)"
   ]
  },
  {
   "cell_type": "code",
   "execution_count": 13,
   "metadata": {},
   "outputs": [
    {
     "data": {
      "text/plain": [
       "(27, 7)"
      ]
     },
     "execution_count": 13,
     "metadata": {},
     "output_type": "execute_result"
    }
   ],
   "source": [
    "filtered_df.shape"
   ]
  }
 ],
 "metadata": {
  "kernelspec": {
   "display_name": "base",
   "language": "python",
   "name": "python3"
  },
  "language_info": {
   "codemirror_mode": {
    "name": "ipython",
    "version": 3
   },
   "file_extension": ".py",
   "mimetype": "text/x-python",
   "name": "python",
   "nbconvert_exporter": "python",
   "pygments_lexer": "ipython3",
   "version": "3.11.7"
  }
 },
 "nbformat": 4,
 "nbformat_minor": 2
}
